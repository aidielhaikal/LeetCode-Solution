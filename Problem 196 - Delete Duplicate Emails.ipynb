{
 "cells": [
  {
   "cell_type": "markdown",
   "metadata": {},
   "source": [
    "# Problem 196"
   ]
  },
  {
   "cell_type": "markdown",
   "metadata": {},
   "source": [
    "New info!  \n",
    "1. drop_duplicates(subset =['colnames'], keep ='first/last/False', inplace =True/False)\n",
    "2. Basic SQL syntax to DELETE DUPLICATES from CROSS_JOIN table"
   ]
  },
  {
   "cell_type": "markdown",
   "metadata": {},
   "source": [
    "Table: `Person`\n",
    "\n",
    "```\n",
    "+-------------+---------+  \n",
    "| Column Name | Type    |  \n",
    "+-------------+---------+  \n",
    "| id          | int     |  \n",
    "| email       | varchar |  \n",
    "+-------------+---------+  \n",
    "```\n",
    "\n",
    "`id` is the primary key (column with unique values) for this table.  \n",
    "Each row of this table contains an `email`.  \n",
    "The emails will not contain uppercase letters.\n",
    "\n",
    "Write a solution to delete all duplicate emails, keeping only one unique email with the smallest `id`."
   ]
  },
  {
   "cell_type": "markdown",
   "metadata": {},
   "source": [
    "Solution 1: Pandas"
   ]
  },
  {
   "cell_type": "code",
   "execution_count": null,
   "metadata": {},
   "outputs": [],
   "source": [
    "import pandas as pd\n",
    "\n",
    "# Modify Person in place\n",
    "def delete_duplicate_emails(person: pd.DataFrame) -> None:\n",
    "    # sort rows based on the id column using sort_values\n",
    "    person.sort_values(by = 'id', ascending= True, inplace= True)\n",
    "    # delete duplicate using drop_duplicates(subset =['colnames'], keep ='first/last/False', inplace =True/False)\n",
    "    person.drop_duplicates(subset = ['email'], keep= 'first', inplace =True)"
   ]
  },
  {
   "cell_type": "markdown",
   "metadata": {},
   "source": [
    "Solution 2: MySQL"
   ]
  },
  {
   "cell_type": "code",
   "execution_count": null,
   "metadata": {},
   "outputs": [],
   "source": [
    "## p1, p2 are the aliases of the table person, to avoid confusion\n",
    "## person p1, person p2 essentially \n",
    "# delete p1 from person p1, person p2\n",
    "# where p1.email=p2.email and p1.id> p2.id;\n",
    "\n",
    "## Alternative\n",
    "# delete p\n",
    "# from Person p\n",
    "# cross join Person p2\n",
    "# where p.Email = p2.Email and p.id > p2.Id"
   ]
  }
 ],
 "metadata": {
  "kernelspec": {
   "display_name": "Python 3",
   "language": "python",
   "name": "python3"
  },
  "language_info": {
   "codemirror_mode": {
    "name": "ipython",
    "version": 3
   },
   "file_extension": ".py",
   "mimetype": "text/x-python",
   "name": "python",
   "nbconvert_exporter": "python",
   "pygments_lexer": "ipython3",
   "version": "3.11.5"
  },
  "orig_nbformat": 4
 },
 "nbformat": 4,
 "nbformat_minor": 2
}
