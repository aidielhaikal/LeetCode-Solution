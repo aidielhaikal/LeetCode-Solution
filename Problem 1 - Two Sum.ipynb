{
 "cells": [
  {
   "cell_type": "markdown",
   "metadata": {},
   "source": [
    "# Problem 1\n",
    "\n",
    "New info!  \n",
    "1. Order of magnitude"
   ]
  },
  {
   "cell_type": "markdown",
   "metadata": {},
   "source": [
    "Two sum. Given an array of integers `nums` and an integer `target`, return *indices* of the two numbers such that they add up to `target`.\n",
    "\n",
    "**Example**  \n",
    "Input: `nums = [2,7,11,15], target = 9`  \n",
    "Output: `[0,1]`  \n",
    "Explanation: Because `nums[0] + nums[1] == 9`, we return `[0,1]`"
   ]
  },
  {
   "cell_type": "markdown",
   "metadata": {},
   "source": [
    "In algorithm analysis, \n",
    "\n",
    "`O(n)` (Order of magnitude) describes the time complexity of an algorithm or the upper bound on the number of basic operations an algorithm perfoms in relation to size of data input. \n",
    "\n",
    "O(1): Constant time (no matter the input size).  \n",
    "O(log n): Logarithmic time (e.g., binary search).  \n",
    "O(n): Linear time (e.g., iterating through a list once).  \n",
    "O(n^2): Quadratic time (e.g., nested loops).  \n",
    "O(n^3): Cubic time (e.g., three nested loops).  \n",
    "O(2^n): Exponential time (e.g., certain recursive algorithms).  "
   ]
  },
  {
   "cell_type": "code",
   "execution_count": 39,
   "metadata": {},
   "outputs": [],
   "source": [
    "nums = [2,7,11,15]\n",
    "target = 9"
   ]
  },
  {
   "cell_type": "markdown",
   "metadata": {},
   "source": [
    "Solution 1: $O(n^2)$"
   ]
  },
  {
   "cell_type": "code",
   "execution_count": 40,
   "metadata": {},
   "outputs": [],
   "source": [
    "from typing import List\n",
    "import time\n",
    "\n",
    "#`class` is used to encapsulate data and functions into a single unit\n",
    "class Solution:\n",
    "#   'self' parameter is a reference to the instance of the class itself\n",
    "#   `List` is a type hint for the method argument\n",
    "    def twoSum(self, nums: List[int], target: int) -> List[int]:\n",
    "        for i in range(len(nums)-1):\n",
    "            for j in range(i+1, len(nums)):\n",
    "                if nums[i]+nums[j] == target:\n",
    "                    return [i, j]"
   ]
  },
  {
   "cell_type": "code",
   "execution_count": 41,
   "metadata": {},
   "outputs": [
    {
     "name": "stdout",
     "output_type": "stream",
     "text": [
      "Elapsed Time: 0.0 seconds\n"
     ]
    }
   ],
   "source": [
    "# # create instance of the `Solution` class\n",
    "# solution_instance =  Solution()\n",
    "# result = solution_instance.twoSum(nums, target)\n",
    "\n",
    "# to use methods and properties defined within a class, need to create an instance of that class e.g. class_name()\n",
    "# to call the methods e.g. class_name().methods(param)\n",
    "start_time = time.time()\n",
    "Solution().twoSum(nums, target)\n",
    "end_time = time.time()\n",
    "elapsed_time = end_time - start_time\n",
    "\n",
    "print(f\"Elapsed Time: {elapsed_time} seconds\")"
   ]
  },
  {
   "cell_type": "markdown",
   "metadata": {},
   "source": [
    "Solution 2: $O(n)$"
   ]
  },
  {
   "cell_type": "code",
   "execution_count": 42,
   "metadata": {},
   "outputs": [],
   "source": [
    "class Solution_2:\n",
    "    def twoSum_v2(self, nums: List[int], target: int) -> List[int]:\n",
    "#       A dictionary to store numbers and their indices\n",
    "        num_indices = {}\n",
    "# enumerate is used to iterate of sequence (list/tuple/string) while keeping track of index i.e. return index, item\n",
    "        for i, num in enumerate(nums):\n",
    "            complement =  target - num\n",
    "\n",
    "            if complement in num_indices:\n",
    "                return [num_indices[complement], i]\n",
    "\n",
    "            num_indices[num] = i\n",
    "#       return empty list if no solution found\n",
    "        return []\n",
    "\n",
    "            "
   ]
  },
  {
   "cell_type": "code",
   "execution_count": 43,
   "metadata": {},
   "outputs": [
    {
     "name": "stdout",
     "output_type": "stream",
     "text": [
      "Elapsed Time: -0.016750574111938477 seconds\n"
     ]
    }
   ],
   "source": [
    "start_time = time.time()\n",
    "Solution_2().twoSum_v2(nums, target)\n",
    "elapsed_time = end_time - start_time\n",
    "\n",
    "print(f\"Elapsed Time: {elapsed_time} seconds\")"
   ]
  },
  {
   "cell_type": "code",
   "execution_count": 44,
   "metadata": {},
   "outputs": [
    {
     "name": "stdout",
     "output_type": "stream",
     "text": [
      "0 2\n",
      "1 7\n",
      "2 11\n",
      "3 15\n"
     ]
    }
   ],
   "source": [
    "for i, num in enumerate(nums):\n",
    "    print(i, num)"
   ]
  },
  {
   "cell_type": "code",
   "execution_count": 45,
   "metadata": {},
   "outputs": [
    {
     "name": "stdout",
     "output_type": "stream",
     "text": [
      "False\n"
     ]
    }
   ],
   "source": [
    "num_indices = {}\n",
    "\n",
    "complement = target - 2\n",
    "print(complement in num_indices)"
   ]
  },
  {
   "cell_type": "code",
   "execution_count": 46,
   "metadata": {},
   "outputs": [
    {
     "data": {
      "text/plain": [
       "{2: 0}"
      ]
     },
     "execution_count": 46,
     "metadata": {},
     "output_type": "execute_result"
    }
   ],
   "source": [
    "num_indices[2]= 0\n",
    "num_indices"
   ]
  },
  {
   "cell_type": "code",
   "execution_count": 47,
   "metadata": {},
   "outputs": [
    {
     "name": "stdout",
     "output_type": "stream",
     "text": [
      "True\n"
     ]
    }
   ],
   "source": [
    "complement = target - 7\n",
    "print(complement in num_indices)"
   ]
  },
  {
   "cell_type": "code",
   "execution_count": 48,
   "metadata": {},
   "outputs": [
    {
     "name": "stdout",
     "output_type": "stream",
     "text": [
      "[0, 1]\n"
     ]
    }
   ],
   "source": [
    "print([num_indices[complement], 1])"
   ]
  }
 ],
 "metadata": {
  "kernelspec": {
   "display_name": "Python 3",
   "language": "python",
   "name": "python3"
  },
  "language_info": {
   "codemirror_mode": {
    "name": "ipython",
    "version": 3
   },
   "file_extension": ".py",
   "mimetype": "text/x-python",
   "name": "python",
   "nbconvert_exporter": "python",
   "pygments_lexer": "ipython3",
   "version": "3.11.5"
  },
  "orig_nbformat": 4
 },
 "nbformat": 4,
 "nbformat_minor": 2
}
