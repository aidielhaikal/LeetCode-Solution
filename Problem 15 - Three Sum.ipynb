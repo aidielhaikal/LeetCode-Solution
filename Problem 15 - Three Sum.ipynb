{
 "cells": [
  {
   "cell_type": "markdown",
   "metadata": {},
   "source": [
    "# Problem 15 \n",
    "\n",
    "New info!  \n",
    "1. Data types  \n",
    "2. Two-pointer approach  \n"
   ]
  },
  {
   "cell_type": "markdown",
   "metadata": {},
   "source": [
    "Given an integer array nums, return all the triplets *(the number itself)* `[nums[i], nums[j], nums[k]]` such that `i != j, j != k, i != k`, and `nums[i]+ nums[j]+ nums[k] == 0`.\n",
    "\n",
    "**Example 1:**  \n",
    "Input: nums = [-1,0,1,2,-1,-4]  \n",
    "Output: [[-1,-1,2],[-1,0,1]]  \n",
    "Explanation:  \n",
    "nums[0] + nums[1] + nums[2] = (-1) + 0 + 1 = 0.  \n",
    "nums[1] + nums[2] + nums[4] = 0 + 1 + (-1) = 0.  \n",
    "nums[0] + nums[3] + nums[4] = (-1) + 2 + (-1) = 0.  \n",
    "The distinct triplets are [-1,0,1] and [-1,-1,2].  \n",
    "Notice that the order of the output and the order of the triplets does not matter.  \n",
    "\n",
    "**Example 2:**  \n",
    "Input: nums = [0,1,1]  \n",
    "Output: []  \n",
    "Explanation: The only possible triplet does not sum up to 0.  \n",
    "\n",
    "**Example 3:**  \n",
    "Input: nums = [0,0,0]  \n",
    "Output: [[0,0,0]]  \n",
    "Explanation: The only possible triplet sums up to 0.  "
   ]
  },
  {
   "cell_type": "markdown",
   "metadata": {},
   "source": [
    "Note that the order of the output and the order of the triplets does not matter.  \n",
    "The index cannot be duplicated but the number itself can."
   ]
  },
  {
   "cell_type": "code",
   "execution_count": 2,
   "metadata": {},
   "outputs": [],
   "source": [
    "nums = [-1,0,1,2,-1,-4]\n",
    "target = 0"
   ]
  },
  {
   "cell_type": "code",
   "execution_count": 32,
   "metadata": {},
   "outputs": [
    {
     "data": {
      "text/plain": [
       "[[-1, 0, 1], [-1, -1, 2]]"
      ]
     },
     "execution_count": 32,
     "metadata": {},
     "output_type": "execute_result"
    }
   ],
   "source": [
    "nums = [-1,0,1,2,-1,-4]\n",
    "target = 0\n",
    "\n",
    "# Initialize a set to store unique triplets. Set don't allow duplicates.\n",
    "unique_triplets = set()\n",
    "for i in range(len(nums)-2):\n",
    "    for j in range(i+1, len(nums)-1):\n",
    "        for k in range(j+1, len(nums)):\n",
    "            if nums[i] + nums[j] + nums[k] == 0:\n",
    "                #result.append(((i, j, k), (nums[i], nums[j], nums[k])))\n",
    "                # sort list then store as tuple\n",
    "                triplet = tuple(sorted([nums[i], nums[j], nums[k]]))\n",
    "                unique_triplets.add(triplet)\n",
    "\n",
    "\n",
    "result = [list (item) for item in unique_triplets]\n",
    "result"
   ]
  },
  {
   "cell_type": "markdown",
   "metadata": {},
   "source": [
    "First attempt"
   ]
  },
  {
   "cell_type": "code",
   "execution_count": 33,
   "metadata": {},
   "outputs": [],
   "source": [
    "from typing import List \n",
    "\n",
    "class Solution:\n",
    "    def threeSum(self, nums: List[int]) -> List[List[int]]:\n",
    "        unique_triplets = set()\n",
    "        for i in range(len(nums)-2):\n",
    "            for j in range(i+1, len(nums)-1):\n",
    "                for k in range(j+1, len(nums)):\n",
    "                    if nums[i] + nums[j] + nums[k] == 0:\n",
    "                        #result.append(((i, j, k), (nums[i], nums[j], nums[k])))\n",
    "                        # sort list then store as tuple\n",
    "                        triplet = tuple(sorted([nums[i], nums[j], nums[k]]))\n",
    "                        unique_triplets.add(triplet)\n",
    "\n",
    "\n",
    "        result = [list (item) for item in unique_triplets]\n",
    "        return result"
   ]
  },
  {
   "cell_type": "code",
   "execution_count": 36,
   "metadata": {},
   "outputs": [
    {
     "data": {
      "text/plain": [
       "[[0, 0, 0]]"
      ]
     },
     "execution_count": 36,
     "metadata": {},
     "output_type": "execute_result"
    }
   ],
   "source": [
    "Solution().threeSum([0,0,0])"
   ]
  },
  {
   "cell_type": "markdown",
   "metadata": {},
   "source": [
    "### Two-pointer approach\n",
    "\n",
    "TP is an alogorithm used to optimize the time complexity of certain problems. Here's the general overview of how TP algorithm works:\n",
    " \n",
    "1. Sorting: (n log n)  \n",
    "2. Start and end pointers: two pointers are typically used; one at the starting and the another from the end of the array.  \n",
    "3. Advancement rules: the pointers are advanced based on certain rules or conditions. The goal is to reach a solution or satisfy a specific condition. \n",
    "4. Condition check\n",
    "5. Adjustment \n",
    "6. Iterate Step 3-5\n",
    "7. Solution\n",
    "\n",
    "Common problems solved with this approach:  \n",
    "1. Two-sum problem  \n",
    "2. Three-sum problem  \n",
    "3. Container with most water: given an array of heights representing bars, find two bars that form a container with most water- O(n)  \n",
    "4. Two-pointer merge  \n",
    "5. Cycle detection: In linked lists, TP is used to detect cycles by advancing one pointer faster than the other. If there's cycle, the pointers will eventually meet. "
   ]
  },
  {
   "cell_type": "code",
   "execution_count": 39,
   "metadata": {},
   "outputs": [],
   "source": [
    "from typing import List\n",
    "\n",
    "class Solution:\n",
    "    def threeSum(self, nums: List[int]) -> List[List[int]]:\n",
    "        # Sort the input LIST\n",
    "        nums.sort()\n",
    "\n",
    "        triplets = []\n",
    "        # why minus 2? because we need at least 2 elements after the first element\n",
    "        for i in range(len(nums) -2):\n",
    "            # skip duplicates\n",
    "            if i > 0 and nums[i] == nums[i -1]:\n",
    "                # immediately stops the current iteration of the loop and moves on to the next iteration\n",
    "                continue \n",
    "\n",
    "            # right start at len(nums) -1 because the index starts at 0 in Python\n",
    "            left, right = i+1, len(nums) -1\n",
    "\n",
    "            # Advancement rules:\n",
    "            while left < right:\n",
    "                total = nums[i] + nums[left] + nums[right]\n",
    "\n",
    "                if total == 0:\n",
    "                    triplets.append([nums[i], nums[left], nums[right]])\n",
    "                    left +=1\n",
    "                    right -=1\n",
    "\n",
    "                    # skip duplicates\n",
    "                    while left < right and nums[left] == nums[left -1]:\n",
    "                        left +=1\n",
    "                    while left < right and nums[right] == nums[right +1]:\n",
    "                        right -=1\n",
    "                elif total < 0:\n",
    "                    left +=1\n",
    "                else:\n",
    "                    right -=1\n",
    "\n",
    "        return triplets"
   ]
  },
  {
   "cell_type": "code",
   "execution_count": null,
   "metadata": {},
   "outputs": [],
   "source": []
  },
  {
   "cell_type": "markdown",
   "metadata": {},
   "source": [
    "### Notes on data types:"
   ]
  },
  {
   "cell_type": "markdown",
   "metadata": {},
   "source": [
    "#### Definition and Example\n",
    "\n",
    "1. List is a collection which is ordered and changeable (can add/remove item). Allows duplicate members.\n",
    "```python\n",
    "mylist = [\"apple\", \"banana\", \"cherry\"]\n",
    "```\n",
    "2. Tuple is a collection which is ordered and unchangeable. Allows duplicate members.\n",
    "```python\n",
    "thistuple = (\"apple\", \"banana\", \"cherry\")\n",
    "```\n",
    "\n",
    "3. Set is a collection which is unordered, unchangeable*, and unindexed. No duplicate members.  \n",
    "   Once a set is created, you cannot change its items, but you can remove items and add new items.\n",
    "```python\n",
    "myset = {\"apple\", \"banana\", \"cherry\"}\n",
    "``` \n",
    "\n",
    "4. Dictionary is a collection which is ordered** and changeable. No duplicate members.\n",
    "```python\n",
    "thisdict = {\n",
    "  \"brand\": \"Ford\",\n",
    "  \"model\": \"Mustang\",\n",
    "  \"year\": 1964\n",
    "}\n",
    "``` "
   ]
  },
  {
   "cell_type": "markdown",
   "metadata": {},
   "source": [
    "#### Adding items \n",
    "\n",
    "1. List\n",
    "```python\n",
    "my_list = [1, 2, 3]\n",
    "# Insert 4 at the end of the list\n",
    "my_list.append(4)\n",
    "# Insert 4 at index 1\n",
    "my_list.insert(1, 4)  \n",
    "# concatenate multiple items\n",
    "new_items = [4, 5]\n",
    "my_list += new_items\n",
    "```\n",
    "\n",
    "2. Tuple\n",
    "```python\n",
    "# need to create new tuple then concatenate\n",
    "my_tuple = (1, 2, 3)\n",
    "new_items = (4, 5)\n",
    "my_tuple += new_items\n",
    "```\n",
    "\n",
    "3. Set\n",
    "```python\n",
    "# to add in a single item\n",
    "my_set = {1, 2, 3}\n",
    "my_set.add(4)\n",
    "# to add in multiple items\n",
    "new_items = {4, 5}\n",
    "my_set.update(new_items)\n",
    "```\n",
    "\n",
    "4. Dictionary\n",
    "```python\n",
    "# add key-value pair\n",
    "my_dict = {'a': 1, 'b': 2}\n",
    "my_dict['c'] = 3  # Add a new key 'c' with value 3\n",
    "my_dict['a'] = 4  # Update the value for key 'a'\n",
    "# to add in multiple key-value pair\n",
    "new_items = {'c': 3, 'd': 4}\n",
    "my_dict.update(new_items)\n",
    "```"
   ]
  },
  {
   "cell_type": "code",
   "execution_count": null,
   "metadata": {},
   "outputs": [],
   "source": []
  }
 ],
 "metadata": {
  "kernelspec": {
   "display_name": "Python 3",
   "language": "python",
   "name": "python3"
  },
  "language_info": {
   "codemirror_mode": {
    "name": "ipython",
    "version": 3
   },
   "file_extension": ".py",
   "mimetype": "text/x-python",
   "name": "python",
   "nbconvert_exporter": "python",
   "pygments_lexer": "ipython3",
   "version": "3.11.5"
  },
  "orig_nbformat": 4
 },
 "nbformat": 4,
 "nbformat_minor": 2
}
